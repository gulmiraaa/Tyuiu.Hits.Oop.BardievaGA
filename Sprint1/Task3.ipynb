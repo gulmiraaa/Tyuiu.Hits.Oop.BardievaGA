{
 "cells": [
  {
   "cell_type": "markdown",
   "metadata": {},
   "source": [
    "<h1 style=\"color:DodgerBlue\">Индивидальный проект</h1>"
   ]
  },
  {
   "cell_type": "markdown",
   "metadata": {},
   "source": [
    "<h2 style=\"color:DodgerBlue\">Название проекта:</h2>\n",
    "\n",
    "----\n",
    "\n",
    "### Вариант задания 3\n"
   ]
  },
  {
   "cell_type": "markdown",
   "metadata": {},
   "source": [
    "<h2 style=\"color:DodgerBlue\">Описание проекта:</h2>\n",
    "\n",
    "----\n",
    "\n",
    "[ваш текст]\n",
    "\n",
    "#### Дополнительное задание\n",
    "Добавьте к сущестующим классам конструктора классов с использованием гетторов и сетторов и реализуйте взаимодействие объектов между собой"
   ]
  },
  {
   "cell_type": "markdown",
   "metadata": {},
   "source": [
    "<h2 style=\"color:DodgerBlue\">Реализация:</h2>\n",
    "\n",
    "----"
   ]
  },
  {
   "cell_type": "code",
   "execution_count": 1,
   "metadata": {
    "dotnet_interactive": {
     "language": "csharp"
    },
    "polyglot_notebook": {
     "kernelName": "csharp"
    }
   },
   "outputs": [],
   "source": [
    "using System;\n",
    "\n",
    "public class Employee\n",
    "{\n",
    "public string Name { get; set; }\n",
    "public int Age { get; set; }\n",
    "public string Position { get; set; }\n",
    "\n",
    "public Employee(string name, int age, string position)\n",
    "{\n",
    "    Name = name;\n",
    "    Age = age;\n",
    "    Position = position;\n",
    "}\n",
    "\n",
    "public virtual void DisplayInfo()\n",
    "{\n",
    "    Console.WriteLine($\"Имя: {Name}\");\n",
    "    Console.WriteLine($\"Возраст: {Age}\");\n",
    "    Console.WriteLine($\"Позиция: {Position}\");\n",
    "}\n",
    "}\n",
    "\n",
    "public class Developer : Employee\n",
    "{\n",
    "public string ProgrammingLanguage { get; set; }\n",
    "\n",
    "public Developer(string name, int age, string position, string programmingLanguage) : base(name, age, position)\n",
    "{\n",
    "    ProgrammingLanguage = programmingLanguage;\n",
    "}\n",
    "\n",
    "public override void DisplayInfo()\n",
    "{\n",
    "    base.DisplayInfo();\n",
    "    Console.WriteLine($\"Язык программирования: {ProgrammingLanguage}\");\n",
    "}\n",
    "}\n",
    "\n",
    "public class Manager : Employee\n",
    "{\n",
    "public int TeamSize { get; set; }\n",
    "\n",
    "public Manager(string name, int age, string position, int teamSize) : base(name, age, position)\n",
    "{\n",
    "    TeamSize = teamSize;\n",
    "}\n",
    "\n",
    "public override void DisplayInfo()\n",
    "{\n",
    "    base.DisplayInfo();\n",
    "    Console.WriteLine($\"Размер команды: {TeamSize}\");\n",
    "}\n",
    "}\n",
    "\n",
    "class Program\n",
    "{\n",
    "static void Main()\n",
    "{\n",
    "Developer dev = new Developer(\"Виктория Назарова\", 35, \"Разработчик программного обеспечения\", \"C#\");\n",
    "Manager manager = new Manager(\"Александр Букреев\", 40, \"Менеджер проекта\", 10);\n",
    "\n",
    "    dev.DisplayInfo();\n",
    "    Console.WriteLine();\n",
    "\n",
    "    manager.DisplayInfo();\n",
    "}\n",
    "}"
   ]
  }
 ],
 "metadata": {
  "kernelspec": {
   "display_name": ".NET (C#)",
   "language": "C#",
   "name": ".net-csharp"
  },
  "language_info": {
   "name": "polyglot-notebook"
  },
  "polyglot_notebook": {
   "kernelInfo": {
    "defaultKernelName": "csharp",
    "items": [
     {
      "aliases": [],
      "languageName": "csharp",
      "name": "csharp"
     }
    ]
   }
  }
 },
 "nbformat": 4,
 "nbformat_minor": 2
}
